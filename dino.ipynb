{
 "cells": [
  {
   "cell_type": "code",
   "execution_count": 1,
   "id": "afc5b4b7",
   "metadata": {},
   "outputs": [
    {
     "name": "stdout",
     "output_type": "stream",
     "text": [
      "Collecting pyautogui\n",
      "  Downloading PyAutoGUI-0.9.54.tar.gz (61 kB)\n",
      "     ---------------------------------------- 0.0/61.2 kB ? eta -:--:--\n",
      "     ------------ ------------------------- 20.5/61.2 kB 330.3 kB/s eta 0:00:01\n",
      "     ------------------------------- ------ 51.2/61.2 kB 660.6 kB/s eta 0:00:01\n",
      "     -------------------------------------- 61.2/61.2 kB 548.3 kB/s eta 0:00:00\n",
      "  Installing build dependencies: started\n",
      "  Installing build dependencies: finished with status 'done'\n",
      "  Getting requirements to build wheel: started\n",
      "  Getting requirements to build wheel: finished with status 'done'\n",
      "  Preparing metadata (pyproject.toml): started\n",
      "  Preparing metadata (pyproject.toml): finished with status 'done'\n",
      "Collecting pillow\n",
      "  Downloading pillow-11.3.0-cp311-cp311-win_amd64.whl.metadata (9.2 kB)\n",
      "Collecting keyboard\n",
      "  Downloading keyboard-0.13.5-py3-none-any.whl.metadata (4.0 kB)\n",
      "Collecting pymsgbox (from pyautogui)\n",
      "  Downloading PyMsgBox-1.0.9.tar.gz (18 kB)\n",
      "  Installing build dependencies: started\n",
      "  Installing build dependencies: finished with status 'done'\n",
      "  Getting requirements to build wheel: started\n",
      "  Getting requirements to build wheel: finished with status 'done'\n",
      "  Preparing metadata (pyproject.toml): started\n",
      "  Preparing metadata (pyproject.toml): finished with status 'done'\n",
      "Collecting pytweening>=1.0.4 (from pyautogui)\n",
      "  Downloading pytweening-1.2.0.tar.gz (171 kB)\n",
      "     ---------------------------------------- 0.0/171.2 kB ? eta -:--:--\n",
      "     ---------------------------------- --- 153.6/171.2 kB 9.0 MB/s eta 0:00:01\n",
      "     ---------------------------------- --- 153.6/171.2 kB 9.0 MB/s eta 0:00:01\n",
      "     ---------------------------------- --- 153.6/171.2 kB 9.0 MB/s eta 0:00:01\n",
      "     -------------------------------------- 171.2/171.2 kB 1.0 MB/s eta 0:00:00\n",
      "  Installing build dependencies: started\n",
      "  Installing build dependencies: finished with status 'done'\n",
      "  Getting requirements to build wheel: started\n",
      "  Getting requirements to build wheel: finished with status 'done'\n",
      "  Preparing metadata (pyproject.toml): started\n",
      "  Preparing metadata (pyproject.toml): finished with status 'done'\n",
      "Collecting pyscreeze>=0.1.21 (from pyautogui)\n",
      "  Downloading pyscreeze-1.0.1.tar.gz (27 kB)\n",
      "  Installing build dependencies: started\n",
      "  Installing build dependencies: finished with status 'done'\n",
      "  Getting requirements to build wheel: started\n",
      "  Getting requirements to build wheel: finished with status 'done'\n",
      "  Preparing metadata (pyproject.toml): started\n",
      "  Preparing metadata (pyproject.toml): finished with status 'done'\n",
      "Collecting pygetwindow>=0.0.5 (from pyautogui)\n",
      "  Downloading PyGetWindow-0.0.9.tar.gz (9.7 kB)\n",
      "  Installing build dependencies: started\n",
      "  Installing build dependencies: finished with status 'done'\n",
      "  Getting requirements to build wheel: started\n",
      "  Getting requirements to build wheel: finished with status 'done'\n",
      "  Preparing metadata (pyproject.toml): started\n",
      "  Preparing metadata (pyproject.toml): finished with status 'done'\n",
      "Collecting mouseinfo (from pyautogui)\n",
      "  Downloading MouseInfo-0.1.3.tar.gz (10 kB)\n",
      "  Installing build dependencies: started\n",
      "  Installing build dependencies: finished with status 'done'\n",
      "  Getting requirements to build wheel: started\n",
      "  Getting requirements to build wheel: finished with status 'done'\n",
      "  Preparing metadata (pyproject.toml): started\n",
      "  Preparing metadata (pyproject.toml): finished with status 'done'\n",
      "Collecting pyrect (from pygetwindow>=0.0.5->pyautogui)\n",
      "  Downloading PyRect-0.2.0.tar.gz (17 kB)\n",
      "  Installing build dependencies: started\n",
      "  Installing build dependencies: finished with status 'done'\n",
      "  Getting requirements to build wheel: started\n",
      "  Getting requirements to build wheel: finished with status 'done'\n",
      "  Preparing metadata (pyproject.toml): started\n",
      "  Preparing metadata (pyproject.toml): finished with status 'done'\n",
      "Collecting pyperclip (from mouseinfo->pyautogui)\n",
      "  Downloading pyperclip-1.9.0.tar.gz (20 kB)\n",
      "  Installing build dependencies: started\n",
      "  Installing build dependencies: finished with status 'done'\n",
      "  Getting requirements to build wheel: started\n",
      "  Getting requirements to build wheel: finished with status 'done'\n",
      "  Preparing metadata (pyproject.toml): started\n",
      "  Preparing metadata (pyproject.toml): finished with status 'done'\n",
      "Downloading pillow-11.3.0-cp311-cp311-win_amd64.whl (7.0 MB)\n",
      "   ---------------------------------------- 0.0/7.0 MB ? eta -:--:--\n",
      "   -- ------------------------------------- 0.5/7.0 MB 16.5 MB/s eta 0:00:01\n",
      "   ---- ----------------------------------- 0.8/7.0 MB 9.7 MB/s eta 0:00:01\n",
      "   --------- ------------------------------ 1.6/7.0 MB 12.6 MB/s eta 0:00:01\n",
      "   ------------ --------------------------- 2.1/7.0 MB 12.4 MB/s eta 0:00:01\n",
      "   -------------- ------------------------- 2.5/7.0 MB 12.5 MB/s eta 0:00:01\n",
      "   ------------------ --------------------- 3.2/7.0 MB 11.9 MB/s eta 0:00:01\n",
      "   --------------------- ------------------ 3.7/7.0 MB 11.8 MB/s eta 0:00:01\n",
      "   ------------------------ --------------- 4.2/7.0 MB 11.7 MB/s eta 0:00:01\n",
      "   --------------------------- ------------ 4.8/7.0 MB 11.7 MB/s eta 0:00:01\n",
      "   ------------------------------ --------- 5.3/7.0 MB 11.7 MB/s eta 0:00:01\n",
      "   --------------------------------- ------ 5.8/7.0 MB 12.0 MB/s eta 0:00:01\n",
      "   ------------------------------------ --- 6.4/7.0 MB 12.0 MB/s eta 0:00:01\n",
      "   ---------------------------------------  6.9/7.0 MB 12.0 MB/s eta 0:00:01\n",
      "   ---------------------------------------- 7.0/7.0 MB 11.5 MB/s eta 0:00:00\n",
      "Downloading keyboard-0.13.5-py3-none-any.whl (58 kB)\n",
      "   ---------------------------------------- 0.0/58.1 kB ? eta -:--:--\n",
      "   ---------------------------------------- 58.1/58.1 kB 3.0 MB/s eta 0:00:00\n",
      "Building wheels for collected packages: pyautogui, pygetwindow, pyscreeze, pytweening, mouseinfo, pymsgbox, pyperclip, pyrect\n",
      "  Building wheel for pyautogui (pyproject.toml): started\n",
      "  Building wheel for pyautogui (pyproject.toml): finished with status 'done'\n",
      "  Created wheel for pyautogui: filename=pyautogui-0.9.54-py3-none-any.whl size=37707 sha256=815129e6ca4a985b154cb8399868cf7421b90b6023dff4853e1fc4950a82bad5\n",
      "  Stored in directory: c:\\users\\student\\appdata\\local\\pip\\cache\\wheels\\95\\dc\\b1\\fe122b791e0db8bf439a0e6e1d2628e48f10bf430cae13521b\n",
      "  Building wheel for pygetwindow (pyproject.toml): started\n",
      "  Building wheel for pygetwindow (pyproject.toml): finished with status 'done'\n",
      "  Created wheel for pygetwindow: filename=pygetwindow-0.0.9-py3-none-any.whl size=11137 sha256=c12946a89bd3639e02762ee92ec096848c57d0c46bd11ecd63d06b3865339103\n",
      "  Stored in directory: c:\\users\\student\\appdata\\local\\pip\\cache\\wheels\\07\\75\\0b\\7ca0b598eb4c21d43ba4bcc78a0538dfcf803a5997da33bc19\n",
      "  Building wheel for pyscreeze (pyproject.toml): started\n",
      "  Building wheel for pyscreeze (pyproject.toml): finished with status 'done'\n",
      "  Created wheel for pyscreeze: filename=pyscreeze-1.0.1-py3-none-any.whl size=14481 sha256=28882107e972fcadbf25d7d6582c8901a66d698b712fd285cc7f4602359c6fc2\n",
      "  Stored in directory: c:\\users\\student\\appdata\\local\\pip\\cache\\wheels\\cd\\e3\\dd\\267b393d8e8f607e47194942740d080d9bfd835cd4375a3de1\n",
      "  Building wheel for pytweening (pyproject.toml): started\n",
      "  Building wheel for pytweening (pyproject.toml): finished with status 'done'\n",
      "  Created wheel for pytweening: filename=pytweening-1.2.0-py3-none-any.whl size=8135 sha256=bc6ee036ab1a30ec511294cbd4a1818d01626dd2b08c3a43bb9621c5a8203e8e\n",
      "  Stored in directory: c:\\users\\student\\appdata\\local\\pip\\cache\\wheels\\db\\81\\dc\\0d61a3c9614f288e057ab63924e2a49edbeed4ffc916dcda1e\n",
      "  Building wheel for mouseinfo (pyproject.toml): started\n",
      "  Building wheel for mouseinfo (pyproject.toml): finished with status 'done'\n",
      "  Created wheel for mouseinfo: filename=mouseinfo-0.1.3-py3-none-any.whl size=10967 sha256=125f02d98aaa18042067ce20b6ad57bb6673cb48705b834f9a86e2ae829a9b3f\n",
      "  Stored in directory: c:\\users\\student\\appdata\\local\\pip\\cache\\wheels\\20\\0b\\7f\\939ac9ff785b09951c706150537572c00123412f260a6024f3\n",
      "  Building wheel for pymsgbox (pyproject.toml): started\n",
      "  Building wheel for pymsgbox (pyproject.toml): finished with status 'done'\n",
      "  Created wheel for pymsgbox: filename=pymsgbox-1.0.9-py3-none-any.whl size=7467 sha256=6b49681d857eb76bfd3a5a05fe7dfae8d1001329df2e2b3c1f19a0dd1364ecf6\n",
      "  Stored in directory: c:\\users\\student\\appdata\\local\\pip\\cache\\wheels\\85\\92\\63\\e126ee5f33d8f2ed04f96e43ef5df7270a2f331848752e8662\n",
      "  Building wheel for pyperclip (pyproject.toml): started\n",
      "  Building wheel for pyperclip (pyproject.toml): finished with status 'done'\n",
      "  Created wheel for pyperclip: filename=pyperclip-1.9.0-py3-none-any.whl size=11117 sha256=21c5cbae08896879e42740e11feca83372a8d4f3b759fd27e4fc194e1021cabc\n",
      "  Stored in directory: c:\\users\\student\\appdata\\local\\pip\\cache\\wheels\\e8\\e7\\56\\591cb88ba1783b38c40d584026e766aac9c3a048e34128ce8b\n",
      "  Building wheel for pyrect (pyproject.toml): started\n",
      "  Building wheel for pyrect (pyproject.toml): finished with status 'done'\n",
      "  Created wheel for pyrect: filename=pyrect-0.2.0-py2.py3-none-any.whl size=11306 sha256=83b9d520af3bf7304faa471309d4aa8920c6046e02d3edaa94559f7f10258c9a\n",
      "  Stored in directory: c:\\users\\student\\appdata\\local\\pip\\cache\\wheels\\c4\\e9\\fc\\b7a666dd4f9a3168fb44d643079b41d36ddab52f470707e820\n",
      "Successfully built pyautogui pygetwindow pyscreeze pytweening mouseinfo pymsgbox pyperclip pyrect\n",
      "Installing collected packages: pytweening, pyrect, pyperclip, pymsgbox, keyboard, pygetwindow, pillow, mouseinfo, pyscreeze, pyautogui\n",
      "Successfully installed keyboard-0.13.5 mouseinfo-0.1.3 pillow-11.3.0 pyautogui-0.9.54 pygetwindow-0.0.9 pymsgbox-1.0.9 pyperclip-1.9.0 pyrect-0.2.0 pyscreeze-1.0.1 pytweening-1.2.0\n"
     ]
    },
    {
     "name": "stderr",
     "output_type": "stream",
     "text": [
      "\n",
      "[notice] A new release of pip is available: 24.0 -> 25.1.1\n",
      "[notice] To update, run: python.exe -m pip install --upgrade pip\n"
     ]
    }
   ],
   "source": [
    "#Install the required libraries\n",
    "!pip install pyautogui pillow keyboard"
   ]
  },
  {
   "cell_type": "markdown",
   "id": "5731fe25",
   "metadata": {},
   "source": [
    "# 1. Import the required library"
   ]
  },
  {
   "cell_type": "code",
   "execution_count": 2,
   "id": "96e9aa66",
   "metadata": {},
   "outputs": [],
   "source": [
    "# import libraries\n",
    "import pyautogui\n",
    "import time\n",
    "from PIL import ImageGrab\n",
    "from IPython.display import display\n",
    "import keyboard"
   ]
  },
  {
   "cell_type": "markdown",
   "id": "9e56ae6c",
   "metadata": {},
   "source": [
    "# 2. Detect the screen position"
   ]
  },
  {
   "cell_type": "code",
   "execution_count": 78,
   "id": "4eecfdce",
   "metadata": {},
   "outputs": [
    {
     "name": "stdout",
     "output_type": "stream",
     "text": [
      "Point(x=247, y=282)\n",
      "Point(x=303, y=276)\n",
      "Point(x=315, y=280)\n",
      "Point(x=319, y=280)\n",
      "Point(x=319, y=280)\n",
      "Point(x=319, y=280)\n"
     ]
    }
   ],
   "source": [
    "#detect the screen position (left, top, right, bottom)\n",
    "while not keyboard.is_pressed('q'):\n",
    "    time.sleep(1)\n",
    "    print(pyautogui.position())"
   ]
  },
  {
   "cell_type": "markdown",
   "id": "67d85c5b",
   "metadata": {},
   "source": [
    "# 3. Verify the Detection Region"
   ]
  },
  {
   "cell_type": "code",
   "execution_count": null,
   "id": "2b24992d",
   "metadata": {},
   "outputs": [
    {
     "data": {
      "image/jpeg": "[encoded data removed]",
      "image/png": "[encoded data removed]",
      "text/plain": [
       "<PIL.Image.Image image mode=RGB size=94x52>"
      ]
     },
     "metadata": {},
     "output_type": "display_data"
    },
    {
     "name": "stdout",
     "output_type": "stream",
     "text": [
      "(11, 24)\n",
      "(1, 27)\n",
      "(1, 28)\n",
      "(4875, 33)\n"
     ]
    }
   ],
   "source": [
    "#Input the left, top, right, bottom values into the box\n",
    "\n",
    "box = (225,227,319,279) # Update the values based on the above analysis\n",
    "\n",
    "#capture a jpg for verification\n",
    "img = ImageGrab.grab(box)\n",
    "gray = img.convert('L')\n",
    "pixels = gray.getcolors()\n",
    "display(img)\n",
    "for pixel in pixels:\n",
    "    print (pixel)"
   ]
  },
  {
   "cell_type": "markdown",
   "id": "9df7409d",
   "metadata": {},
   "source": [
    "# 4. Define the Jump Function"
   ]
  },
  {
   "cell_type": "code",
   "execution_count": 95,
   "id": "e11b1dd7",
   "metadata": {},
   "outputs": [],
   "source": [
    "#Define the jump function\n",
    "def jump():\n",
    "    pyautogui.press(\"space\")\n"
   ]
  },
  {
   "cell_type": "markdown",
   "id": "1150cc44",
   "metadata": {},
   "source": [
    "# 5. Detect the obstacle"
   ]
  },
  {
   "cell_type": "code",
   "execution_count": 94,
   "id": "7a1e4363",
   "metadata": {},
   "outputs": [],
   "source": [
    "#Define the obstacle detection function\n",
    "def detact_obstacle(box):\n",
    "    img=ImageGrab.grab(box)\n",
    "    gray = img .convert('L')\n",
    "    pixels = gray.getcolors()\n",
    "    for pixel in pixels:\n",
    "        if 150 < pixel[1] < 325:\n",
    "            return True\n",
    "    return False"
   ]
  },
  {
   "cell_type": "markdown",
   "id": "3da2f3e3",
   "metadata": {},
   "source": [
    "# 6. Main Program - Detect Obstacble and Jump"
   ]
  },
  {
   "cell_type": "code",
   "execution_count": 96,
   "id": "3b11674c",
   "metadata": {},
   "outputs": [
    {
     "name": "stdout",
     "output_type": "stream",
     "text": [
      "counting down\n",
      "\n",
      "(i) ...\n",
      "(i) ...\n",
      "(i) ...\n",
      "Go!\n",
      "Stopped\n"
     ]
    }
   ],
   "source": [
    "# Main function, Once detect the obstacle then perform jump\n",
    "# Countdown 3s to give time to switch to game window\n",
    "print(f\"counting down\\n\")\n",
    "for i in reversed(range(3)):\n",
    "    print(f\"(i) ...\")\n",
    "    time.sleep(1)\n",
    "print(\"Go!\")\n",
    "\n",
    "try:\n",
    "    while not keyboard.is_pressed('q'):\n",
    "        if detact_obstacle(box):\n",
    "            jump()\n",
    "            time.sleep(0.07)\n",
    "        time.sleep(0.005)\n",
    "finally:\n",
    "    print(\"Stopped\")"
   ]
  }
 ],
 "metadata": {
  "kernelspec": {
   "display_name": ".venv (3.11.9)",
   "language": "python",
   "name": "python3"
  },
  "language_info": {
   "codemirror_mode": {
    "name": "ipython",
    "version": 3
   },
   "file_extension": ".py",
   "mimetype": "text/x-python",
   "name": "python",
   "nbconvert_exporter": "python",
   "pygments_lexer": "ipython3",
   "version": "3.11.9"
  }
 },
 "nbformat": 4,
 "nbformat_minor": 5
}
